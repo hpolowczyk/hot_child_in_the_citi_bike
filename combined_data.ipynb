{
 "cells": [
  {
   "cell_type": "markdown",
   "metadata": {},
   "source": [
    "# Data Exploration"
   ]
  },
  {
   "cell_type": "markdown",
   "metadata": {},
   "source": [
    "In order to obtain an appropriate representation of the data, I chose to look at April through June for both 2018 and 2019. This way I would be able to gain understanding of year-over-year growth as well account for seasonality as I would be using the same time periods. In addition, I would be using some of the latest available data.\n",
    "\n",
    "Below you will find the code I used to extract the csv files from the zip files, as well as how I cleaned up the column names and put each file into a dictionary using years as keys. I then concatenated each month file into a Q2 file for 2018 and 2019. Using each Q2 file, I created an age column as the original dataset only provided year of birth. Using each respective year, I subtracted the year of birth from it, in order to determine the age of each user. Lastly I combined the Q2 2018 and Q2 2019 files into one which I loaded into Tableau.\n",
    "\n",
    "In Tableau, I created trip duration columns in minutes, as well as in hours, since the original column was in seconds. Using trip_duration_in_hours, I created a filter on the data to exclude all trips that exceeded 168 hours (i.e. 7 days) as a way to exclude some of the outliers in the dataset.\n",
    "\n",
    "** Please note that I have not included any of the zip or csv files in the repository as they were too large"
   ]
  },
  {
   "cell_type": "markdown",
   "metadata": {},
   "source": [
    "# Data Analysis"
   ]
  },
  {
   "cell_type": "markdown",
   "metadata": {},
   "source": [
    "### Average Trip Duration: Subscriber vs Customer\n",
    "When it comes to average trip duration, customers travel over two times longer than subscribers (33 min versus 13 min). Where customer travel time varies by day of the week and time of day, average subscriber travel time shows little variance. This phenomenon is also visible when it comes to looking at age groups for customers versus subscribers. The only metric where there is some variance for subscribers is when investigating gender; however, it only varies by approx. 2 minutes between males and females.\n",
    "\n",
    "### Weekday Usage: Subscriber vs Customer\n",
    "The frequency in which customers and subscribers use Citi Bike during the week varies greatly. Customers are more likely to use the service during the weekend, while subscribers use bikes during the weekdays and far less during the weekends. Upon looking at the time of day in which bikes are used, it is clear to see that during the week, subscribers prodominantly use Citi Bike around 8am and between 4pm to 6pm. This trend indicates that they likely use the service when getting to and from work and/or school. However, on the weekends, subscribers and customers follow very similar usage timelines, with a gradual increase around 10am and a decline at 4pm.\n",
    "\n",
    "\n",
    "### City Official Map\n",
    "Using the interactive map, notable trends include:\n",
    "- The most popular station is Pershing Square North which is located near Grand Central Station. Its proximity to Grand Central Station indicates that not only New Yorkers but tourists are able to quickly access Citi Bike and ride around Manhattan.\n",
    "- Stations in Manhattan are far more popular than those in Brooklyn or Queens. There are also significantly more stations there, making it easier for shorter rides.\n",
    "- Many popular Citi Bike stations are also located near Central Park and as it approaches the summer months, those stations grow in popularity."
   ]
  },
  {
   "cell_type": "code",
   "execution_count": 2,
   "metadata": {},
   "outputs": [],
   "source": [
    "# Dependencies\n",
    "import os\n",
    "from os import listdir,stat\n",
    "from os.path import isfile, join\n",
    "import pandas as pd\n",
    "import numpy as np\n",
    "from zipfile import ZipFile "
   ]
  },
  {
   "cell_type": "code",
   "execution_count": 5,
   "metadata": {},
   "outputs": [],
   "source": [
    "# Folder path for all zip files\n",
    "zip_path = \"zip_data/\"\n",
    "# Create list of files in the zip folder\n",
    "zipped_files = [f for f in listdir(zip_path) if isfile(join(zip_path, f))]\n",
    "\n",
    "# Since only data from 2018 and 2019 will be investigated, use a for-loop to extract the csv file from \n",
    "# the zip file and input it into the csv_data/ directory given that it contains either 2018 or 2019\n",
    "for file in zipped_files:\n",
    "    zip_file = zip_path + file\n",
    "    csv_file = file.replace('zip','csv')\n",
    "    with ZipFile(zip_file,'r') as zipfile:\n",
    "        if '2018' in csv_file or '2019' in csv_file:\n",
    "            zipfile.extractall(path = 'csv_data/')"
   ]
  },
  {
   "cell_type": "code",
   "execution_count": 33,
   "metadata": {},
   "outputs": [
    {
     "name": "stdout",
     "output_type": "stream",
     "text": [
      "{'2018': ['201804-citibike-tripdata.csv', '201805-citibike-tripdata.csv', '201806-citibike-tripdata.csv'], '2019': ['201904-citibike-tripdata.csv', '201905-citibike-tripdata.csv', '201906-citibike-tripdata.csv']}\n"
     ]
    }
   ],
   "source": [
    "# Folder path for all csv files\n",
    "csv_path = \"csv_data/\"\n",
    "# Create list of files in the csv folder\n",
    "csv_files = [f for f in listdir(csv_path) if isfile(join(csv_path, f))]\n",
    "\n",
    "# Set the keys for the dictionary\n",
    "years = ['2018','2019']\n",
    "\n",
    "# Use a for-loop to create a \n",
    "vals = []\n",
    "for year in years:\n",
    "    files_in_year = [file for file in csv_files if year in file]\n",
    "    vals.append(files_in_year)\n",
    "\n",
    "# Create a file dictionary with years as keys and all the files in that year as values\n",
    "file_dict = dict(zip(years, vals))\n",
    "print(file_dict)"
   ]
  },
  {
   "cell_type": "code",
   "execution_count": 34,
   "metadata": {
    "scrolled": false
   },
   "outputs": [
    {
     "name": "stdout",
     "output_type": "stream",
     "text": [
      "Complete file!\n",
      "Complete file!\n"
     ]
    }
   ],
   "source": [
    "for year in years:\n",
    "    combined_data = []\n",
    "    for file in file_dict[year]:\n",
    "        data = pd.read_csv(csv_path + file)\n",
    "        if list(data.columns) != ['tripduration', 'starttime', 'stoptime', 'start station id',\n",
    "                                  'start station name', 'start station latitude',\n",
    "                                  'start station longitude', 'end station id', 'end station name',\n",
    "                                  'end station latitude', 'end station longitude', 'bikeid', 'usertype',\n",
    "                                  'birth year', 'gender']:\n",
    "            data = data.rename(str.lower, axis='columns')\n",
    "            data = data.rename(columns={\"trip duration\":\"tripduration\", \"start time\":\"starttime\", \n",
    "                                        \"stop time\":\"stoptime\", \"bike id\":\"bikeid\", \"user type\":\"usertype\"})\n",
    "        combined_data.append(data)\n",
    "    combined_data = pd.concat(combined_data)\n",
    "    combined_data.to_csv('annual_data/Q2_' + year + '_data.csv')\n",
    "    print('Complete file!')"
   ]
  },
  {
   "cell_type": "code",
   "execution_count": 3,
   "metadata": {},
   "outputs": [],
   "source": [
    "# Create pandas dataframes for Q2 2018 and Q2 2019 data\n",
    "df_q2_2018 = pd.read_csv('annual_data/Q2_2018_data.csv')\n",
    "df_q2_2019 = pd.read_csv('annual_data/Q2_2019_data.csv')"
   ]
  },
  {
   "cell_type": "code",
   "execution_count": 4,
   "metadata": {},
   "outputs": [],
   "source": [
    "# Create age column in each respective dataframe\n",
    "df_q2_2018['age'] = 2018 - df_q2_2018['birth year']\n",
    "df_q2_2019['age'] = 2019 - df_q2_2019['birth year']\n",
    "\n",
    "# Put both dataframes into a list\n",
    "q2 = [df_q2_2018, df_q2_2019]\n",
    "# Concatenate both dataframe\n",
    "q2_data = pd.concat(q2)\n",
    "\n",
    "# Adjust the data type for start and stop times\n",
    "q2_data['starttime'] =  pd.to_datetime(q2_data['starttime'])\n",
    "q2_data['stoptime'] =  pd.to_datetime(q2_data['stoptime'])"
   ]
  },
  {
   "cell_type": "code",
   "execution_count": 9,
   "metadata": {},
   "outputs": [],
   "source": [
    "q2_data.to_csv('annual_data/Q2_2018-2019_data.csv')"
   ]
  }
 ],
 "metadata": {
  "kernelspec": {
   "display_name": "Python 3",
   "language": "python",
   "name": "python3"
  },
  "language_info": {
   "codemirror_mode": {
    "name": "ipython",
    "version": 3
   },
   "file_extension": ".py",
   "mimetype": "text/x-python",
   "name": "python",
   "nbconvert_exporter": "python",
   "pygments_lexer": "ipython3",
   "version": "3.7.3"
  }
 },
 "nbformat": 4,
 "nbformat_minor": 2
}
