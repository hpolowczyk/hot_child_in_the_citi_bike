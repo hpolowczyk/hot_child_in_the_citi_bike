{
 "cells": [
  {
   "cell_type": "markdown",
   "metadata": {},
   "source": [
    "# Data Extraction from Browser"
   ]
  },
  {
   "cell_type": "markdown",
   "metadata": {},
   "source": [
    "This script uses Splinter to download all the zip files from the Citi Bike Data webpage by clicking on each file.\n",
    "\n",
    "Once the download is complete, manually move all the files from Downloads to the zip_data folder."
   ]
  },
  {
   "cell_type": "code",
   "execution_count": null,
   "metadata": {},
   "outputs": [],
   "source": [
    "# Dependencies\n",
    "from splinter import Browser\n",
    "import pandas as pd"
   ]
  },
  {
   "cell_type": "markdown",
   "metadata": {},
   "source": [
    "For Mac Users"
   ]
  },
  {
   "cell_type": "code",
   "execution_count": null,
   "metadata": {},
   "outputs": [],
   "source": [
    "# https://splinter.readthedocs.io/en/latest/drivers/chrome.html\n",
    "#!which chromedriver"
   ]
  },
  {
   "cell_type": "code",
   "execution_count": null,
   "metadata": {},
   "outputs": [],
   "source": [
    "#executable_path = {'executable_path': '/usr/local/bin/chromedriver'}\n",
    "#browser = Browser('chrome', **executable_path, headless=False)"
   ]
  },
  {
   "cell_type": "markdown",
   "metadata": {},
   "source": [
    "For Windows Users"
   ]
  },
  {
   "cell_type": "code",
   "execution_count": 7,
   "metadata": {},
   "outputs": [],
   "source": [
    "executable_path = {'executable_path': 'chromedriver.exe'}\n",
    "browser = Browser('chrome', **executable_path, headless=False)"
   ]
  },
  {
   "cell_type": "code",
   "execution_count": 4,
   "metadata": {
    "scrolled": false
   },
   "outputs": [],
   "source": [
    "# URL of page to be scraped\n",
    "trip_data = 'https://s3.amazonaws.com/tripdata/index.html'\n",
    "browser.visit(trip_data)\n",
    "\n",
    "# Initialize variables for while loop\n",
    "file = \"file\"\n",
    "last = browser.find_link_by_partial_text('.zip').last.value\n",
    "index = 0\n",
    "all_files = []\n",
    "\n",
    "# While the file name is not equal to the last file, add each file name to the all_files list\n",
    "while file != last:\n",
    "    file = browser.find_link_by_partial_text('.zip')[index].value\n",
    "    all_files.append(file)\n",
    "    index += 1"
   ]
  },
  {
   "cell_type": "code",
   "execution_count": 17,
   "metadata": {},
   "outputs": [
    {
     "data": {
      "text/plain": [
       "'201307-201402-citibike-tripdata.zip'"
      ]
     },
     "execution_count": 17,
     "metadata": {},
     "output_type": "execute_result"
    }
   ],
   "source": [
    "# Since the files with the prefix 'JC' are duplicates of previous data files, remove them\n",
    "cleaned_files = [file for file in all_files if not(file.startswith('JC'))]\n",
    "# Since the second file is an aggregate from March 2013 to Feb 2014, remove it\n",
    "cleaned_files.pop(1)"
   ]
  },
  {
   "cell_type": "code",
   "execution_count": 9,
   "metadata": {},
   "outputs": [],
   "source": [
    "browser.visit(trip_data)\n",
    "# Using a for-loop, click each of the file links \n",
    "for file in cleaned_files:\n",
    "    browser.click_link_by_text(file)"
   ]
  }
 ],
 "metadata": {
  "kernelspec": {
   "display_name": "Python 3",
   "language": "python",
   "name": "python3"
  },
  "language_info": {
   "codemirror_mode": {
    "name": "ipython",
    "version": 3
   },
   "file_extension": ".py",
   "mimetype": "text/x-python",
   "name": "python",
   "nbconvert_exporter": "python",
   "pygments_lexer": "ipython3",
   "version": "3.7.3"
  }
 },
 "nbformat": 4,
 "nbformat_minor": 2
}
